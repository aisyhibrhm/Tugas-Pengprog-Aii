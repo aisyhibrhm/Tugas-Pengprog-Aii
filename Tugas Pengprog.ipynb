{
 "cells": [
  {
   "cell_type": "markdown",
   "metadata": {},
   "source": [
    "**Soal 1**: Seorang pelanggan membeli baju di toko. Jika 3 angka terakhir NIM Anda > 600, dia mendapatkan diskon 20%. Jika tidak, diskon 10%. Buat program untuk menghitung total harga."
   ]
  },
  {
   "cell_type": "code",
   "execution_count": 1,
   "metadata": {},
   "outputs": [
    {
     "name": "stdout",
     "output_type": "stream",
     "text": [
      "Total harga setelah diskon: Rp90000.00\n"
     ]
    }
   ],
   "source": [
    "def hitung_total_harga(nim, harga_awal):\n",
    "    # Ambil 3 angka terakhir dari NIM\n",
    "    tiga_angka_terakhir = int(nim[-3:])\n",
    "    \n",
    "    # Tentukan diskon berdasarkan syarat yang diberikan\n",
    "    if tiga_angka_terakhir > 600:\n",
    "        diskon = 0.20\n",
    "    else:\n",
    "        diskon = 0.10\n",
    "    \n",
    "    # Hitung harga setelah diskon\n",
    "    harga_setelah_diskon = harga_awal - (harga_awal * diskon)\n",
    "    \n",
    "    return harga_setelah_diskon\n",
    "\n",
    "# Contoh penggunaan\n",
    "nim = \"H061241049\"  # Ganti dengan NIM yang sesuai\n",
    "harga_awal = 100000  # Contoh harga sebelum diskon\n",
    "\n",
    "harga_final = hitung_total_harga(nim, harga_awal)\n",
    "print(f\"Total harga setelah diskon: Rp{harga_final:.2f}\")\n"
   ]
  },
  {
   "cell_type": "markdown",
   "metadata": {},
   "source": [
    "**Soal 2**: Seorang siswa ingin menentukan apakah dia mendapatkan beasiswa. Jika 3 angka terakhir NIM Anda genap, syaratnya nilai >= 85. Jika ganjil, syaratnya nilai >= 80. Buat program untuk menentukan hasilnya."
   ]
  },
  {
   "cell_type": "code",
   "execution_count": 2,
   "metadata": {},
   "outputs": [
    {
     "name": "stdout",
     "output_type": "stream",
     "text": [
      "Selamat! Anda mendapatkan beasiswa.\n"
     ]
    }
   ],
   "source": [
    "def cek_beasiswa(nim, nilai):\n",
    "    # Ambil 3 angka terakhir dari NIM\n",
    "    tiga_angka_terakhir = int(nim[-3:])\n",
    "    \n",
    "    # Tentukan syarat berdasarkan genap atau ganjil\n",
    "    if tiga_angka_terakhir % 2 == 0:\n",
    "        syarat_nilai = 85\n",
    "    else:\n",
    "        syarat_nilai = 80\n",
    "    \n",
    "    # Cek apakah memenuhi syarat beasiswa\n",
    "    if nilai >= syarat_nilai:\n",
    "        return \"Selamat! Anda mendapatkan beasiswa.\"\n",
    "    else:\n",
    "        return \"Maaf, Anda belum memenuhi syarat beasiswa.\"\n",
    "\n",
    "# Contoh penggunaan\n",
    "nim = \"H061241049\"  # Ganti dengan NIM yang sesuai\n",
    "nilai = 82  # Ganti dengan nilai siswa\n",
    "\n",
    "hasil = cek_beasiswa(nim, nilai)\n",
    "print(hasil)\n"
   ]
  },
  {
   "cell_type": "markdown",
   "metadata": {},
   "source": [
    "**Soal 3**: Sebuah toko online memberikan diskon 15% jika total belanja di atas Rp 300.000 dikurangi 3 angka terakhir NIM Anda. Buat program untuk menghitung total harga."
   ]
  },
  {
   "cell_type": "code",
   "execution_count": 3,
   "metadata": {},
   "outputs": [
    {
     "name": "stdout",
     "output_type": "stream",
     "text": [
      "Total harga setelah diskon: Rp297507.35\n"
     ]
    }
   ],
   "source": [
    "def hitung_total_harga(nim, total_belanja):\n",
    "    # Ambil 3 angka terakhir dari NIM\n",
    "    tiga_angka_terakhir = int(nim[-3:])\n",
    "    \n",
    "    # Tentukan apakah mendapatkan diskon\n",
    "    if total_belanja > 300000:\n",
    "        diskon = 0.15 * (total_belanja - tiga_angka_terakhir)\n",
    "    else:\n",
    "        diskon = 0\n",
    "    \n",
    "    # Hitung harga setelah diskon\n",
    "    harga_setelah_diskon = total_belanja - diskon\n",
    "    \n",
    "    return harga_setelah_diskon\n",
    "\n",
    "# Contoh penggunaan\n",
    "nim = \"H061241049\"  # Ganti dengan NIM yang sesuai\n",
    "total_belanja = 350000  # Ganti dengan total belanja\n",
    "\n",
    "harga_final = hitung_total_harga(nim, total_belanja)\n",
    "print(f\"Total harga setelah diskon: Rp{harga_final:.2f}\")"
   ]
  },
  {
   "cell_type": "markdown",
   "metadata": {},
   "source": [
    "**Soal 4**: Seorang karyawan mendapatkan bonus jika bekerja lebih dari 50 jam. Bonusnya adalah 15% dari gaji ditambah 3 angka terakhir NIM Anda. Buat program untuk menghitung gaji karyawan."
   ]
  },
  {
   "cell_type": "code",
   "execution_count": 4,
   "metadata": {},
   "outputs": [
    {
     "name": "stdout",
     "output_type": "stream",
     "text": [
      "Total gaji setelah bonus: Rp5750049.00\n"
     ]
    }
   ],
   "source": [
    "def hitung_gaji(nim, gaji_pokok, jam_kerja):\n",
    "    # Ambil 3 angka terakhir dari NIM\n",
    "    tiga_angka_terakhir = int(nim[-3:])\n",
    "    \n",
    "    # Hitung bonus jika jam kerja lebih dari 50 jam\n",
    "    if jam_kerja > 50:\n",
    "        bonus = (0.15 * gaji_pokok) + tiga_angka_terakhir\n",
    "    else:\n",
    "        bonus = 0\n",
    "    \n",
    "    # Hitung total gaji\n",
    "    total_gaji = gaji_pokok + bonus\n",
    "    \n",
    "    return total_gaji\n",
    "\n",
    "# Contoh penggunaan\n",
    "nim = \"H061241049\"  # Ganti dengan NIM yang sesuai\n",
    "gaji_pokok = 5000000  # Ganti dengan gaji pokok\n",
    "jam_kerja = 55  # Ganti dengan jumlah jam kerja\n",
    "\n",
    "total_gaji = hitung_gaji(nim, gaji_pokok, jam_kerja)\n",
    "print(f\"Total gaji setelah bonus: Rp{total_gaji:.2f}\")\n"
   ]
  },
  {
   "cell_type": "markdown",
   "metadata": {},
   "source": [
    "**Soal 5**: Sebuah restoran memberikan diskon 10% untuk pesanan di atas Rp 100.000 ditambah 3 angka terakhir NIM Anda. Buat program untuk menghitung total biaya."
   ]
  },
  {
   "cell_type": "code",
   "execution_count": 5,
   "metadata": {},
   "outputs": [
    {
     "name": "stdout",
     "output_type": "stream",
     "text": [
      "Total biaya setelah diskon: Rp134951.00\n"
     ]
    }
   ],
   "source": [
    "def hitung_total_biaya(nim, total_pesanan):\n",
    "    # Ambil 3 angka terakhir dari NIM\n",
    "    tiga_angka_terakhir = int(nim[-3:])\n",
    "    \n",
    "    # Hitung diskon jika pesanan di atas Rp 100.000\n",
    "    if total_pesanan > 100000:\n",
    "        diskon = (0.10 * total_pesanan) + tiga_angka_terakhir\n",
    "    else:\n",
    "        diskon = 0\n",
    "    \n",
    "    # Hitung total biaya setelah diskon\n",
    "    total_biaya = total_pesanan - diskon\n",
    "    \n",
    "    return total_biaya\n",
    "\n",
    "# Contoh penggunaan\n",
    "nim = \"H061241049\"  # Ganti dengan NIM yang sesuai\n",
    "total_pesanan = 150000  # Ganti dengan total pesanan\n",
    "\n",
    "total_biaya = hitung_total_biaya(nim, total_pesanan)\n",
    "print(f\"Total biaya setelah diskon: Rp{total_biaya:.2f}\")\n"
   ]
  },
  {
   "cell_type": "markdown",
   "metadata": {},
   "source": [
    "**Soal 6**: Seorang pelari ingin menentukan apakah dia berhasil memenuhi target latihan. Jika jarak lari > (3 angka terakhir NIM Anda % 10) km, dia berhasil. Buat program untuk menentukan hasil latihannya."
   ]
  },
  {
   "cell_type": "code",
   "execution_count": 3,
   "metadata": {},
   "outputs": [
    {
     "name": "stdout",
     "output_type": "stream",
     "text": [
      "Mohon Maaf, kamu belum memenuhi target latihan.\n"
     ]
    }
   ],
   "source": [
    "def cek_target_lari(nim, jarak_lari):\n",
    "    # Ambil 3 angka terakhir dari NIM dan ambil modulus 10\n",
    "    target_km = int(nim[-3:]) % 10\n",
    "    \n",
    "    # Cek apakah pelari memenuhi target\n",
    "    if jarak_lari > target_km:\n",
    "        return \"Yayy selamat! kamu berhasil memenuhi target latihan.\"\n",
    "    else:\n",
    "        return \"Mohon Maaf, kamu belum memenuhi target latihan.\"\n",
    "\n",
    "# Contoh penggunaan\n",
    "nim = \"H061241049\"  # Ganti dengan NIM yang sesuai\n",
    "jarak_lari = 5  # Ganti dengan jarak yang ditempuh\n",
    "\n",
    "hasil = cek_target_lari(nim, jarak_lari)\n",
    "print(hasil)"
   ]
  },
  {
   "cell_type": "markdown",
   "metadata": {},
   "source": [
    "**Soal 7**: Sebuah bioskop memberikan diskon 50% untuk pelajar jika 3 angka terakhir NIM Anda genap. Jika ganjil, diskon 25%. Buat program untuk menentukan harga tiket."
   ]
  },
  {
   "cell_type": "code",
   "execution_count": 4,
   "metadata": {},
   "outputs": [
    {
     "name": "stdout",
     "output_type": "stream",
     "text": [
      "Harga tiket setelah diskon: Rp37500.00\n"
     ]
    }
   ],
   "source": [
    "def hitung_harga_tiket(nim, harga_tiket):\n",
    "    # Ambil 3 angka terakhir dari NIM\n",
    "    tiga_angka_terakhir = int(nim[-3:])\n",
    "    \n",
    "    # Tentukan diskon berdasarkan genap atau ganjil\n",
    "    if tiga_angka_terakhir % 2 == 0:\n",
    "        diskon = 0.50\n",
    "    else:\n",
    "        diskon = 0.25\n",
    "    \n",
    "    # Hitung harga setelah diskon\n",
    "    harga_setelah_diskon = harga_tiket - (harga_tiket * diskon)\n",
    "    \n",
    "    return harga_setelah_diskon\n",
    "\n",
    "# Contoh penggunaan\n",
    "nim = \"H061241049\"  # Ganti dengan NIM yang sesuai\n",
    "harga_tiket = 50000  # Ganti dengan harga tiket normal\n",
    "\n",
    "harga_final = hitung_harga_tiket(nim, harga_tiket)\n",
    "print(f\"Harga tiket setelah diskon: Rp{harga_final:.2f}\")\n"
   ]
  },
  {
   "cell_type": "markdown",
   "metadata": {},
   "source": [
    "**Soal 8**: Sebuah toko buku memberikan diskon 25% jika pelanggan membeli lebih dari 10 buku dan 3 angka terakhir NIM Anda > 400. Jika tidak, diskon 15%. Buat program untuk menghit"
   ]
  },
  {
   "cell_type": "code",
   "execution_count": 5,
   "metadata": {},
   "outputs": [
    {
     "name": "stdout",
     "output_type": "stream",
     "text": [
      "Total harga setelah diskon: Rp510000.00\n"
     ]
    }
   ],
   "source": [
    "def hitung_harga_buku(nim, jumlah_buku, harga_per_buku):\n",
    "    # Ambil 3 angka terakhir dari NIM\n",
    "    tiga_angka_terakhir = int(nim[-3:])\n",
    "    \n",
    "    # Tentukan diskon berdasarkan jumlah buku dan NIM\n",
    "    if jumlah_buku > 10 and tiga_angka_terakhir > 400:\n",
    "        diskon = 0.25\n",
    "    else:\n",
    "        diskon = 0.15\n",
    "    \n",
    "    # Hitung total harga sebelum diskon\n",
    "    total_harga = jumlah_buku * harga_per_buku\n",
    "    \n",
    "    # Hitung harga setelah diskon\n",
    "    harga_setelah_diskon = total_harga - (total_harga * diskon)\n",
    "    \n",
    "    return harga_setelah_diskon\n",
    "\n",
    "# Contoh penggunaan\n",
    "nim = \"H061241049\"  # Ganti dengan NIM yang sesuai\n",
    "jumlah_buku = 12  # Ganti dengan jumlah buku yang dibeli\n",
    "harga_per_buku = 50000  # Ganti dengan harga per buku\n",
    "\n",
    "total_harga_final = hitung_harga_buku(nim, jumlah_buku, harga_per_buku)\n",
    "print(f\"Total harga setelah diskon: Rp{total_harga_final:.2f}\")"
   ]
  },
  {
   "cell_type": "markdown",
   "metadata": {},
   "source": [
    "**Soal 9**: Seorang mahasiswa ingin menentukan apakah suatu bilangan positif, negatif, atau nol. Jika 3 angka terakhir NIM Anda genap, cetak \"Positif\". Jika ganjil, cetak \"Negatif\"."
   ]
  },
  {
   "cell_type": "code",
   "execution_count": 6,
   "metadata": {},
   "outputs": [
    {
     "name": "stdout",
     "output_type": "stream",
     "text": [
      "Negatif\n"
     ]
    }
   ],
   "source": [
    "def cek_bilangan(nim):\n",
    "    # Ambil 3 angka terakhir dari NIM\n",
    "    tiga_angka_terakhir = int(nim[-3:])\n",
    "    \n",
    "    # Tentukan apakah bilangan positif atau negatif berdasarkan genap atau ganjil\n",
    "    if tiga_angka_terakhir % 2 == 0:\n",
    "        return \"Positif\"\n",
    "    else:\n",
    "        return \"Negatif\"\n",
    "\n",
    "# Contoh penggunaan\n",
    "nim = \"H061241049\"  # Ganti dengan NIM yang sesuai\n",
    "hasil = cek_bilangan(nim)\n",
    "print(hasil)\n"
   ]
  },
  {
   "cell_type": "markdown",
   "metadata": {},
   "source": [
    "**Soal 10**: Sebuah aplikasi menentukan apakah suatu bilangan adalah bilangan Armstrong. Jika 3 angka terakhir NIM Anda genap, cetak \"Armstrong\". Jika ganjil, cetak \"Bukan Armstrong\"."
   ]
  },
  {
   "cell_type": "code",
   "execution_count": 7,
   "metadata": {},
   "outputs": [
    {
     "name": "stdout",
     "output_type": "stream",
     "text": [
      "Bukan Armstrong\n"
     ]
    }
   ],
   "source": [
    "def cek_armstrong(nim):\n",
    "    # Ambil 3 angka terakhir dari NIM\n",
    "    tiga_angka_terakhir = int(nim[-3:])\n",
    "    \n",
    "    # Tentukan apakah bilangan Armstrong atau bukan berdasarkan genap atau ganjil\n",
    "    if tiga_angka_terakhir % 2 == 0:\n",
    "        return \"Armstrong\"\n",
    "    else:\n",
    "        return \"Bukan Armstrong\"\n",
    "\n",
    "# Contoh penggunaan\n",
    "nim = \"H061241049\"  # Ganti dengan NIM yang sesuai\n",
    "hasil = cek_armstrong(nim)\n",
    "print(hasil)"
   ]
  },
  {
   "cell_type": "markdown",
   "metadata": {},
   "source": [
    "**Soal 11**: Seorang pelanggan ingin mencetak daftar belanjaannya sebanyak (3 angka terakhir NIM Anda % 7) kali. Buat program untuk mencetak daftar belanja tersebut."
   ]
  },
  {
   "cell_type": "code",
   "execution_count": 1,
   "metadata": {},
   "outputs": [
    {
     "name": "stdout",
     "output_type": "stream",
     "text": [
      "\n",
      "Cetakan ke-1:\n",
      "- Coklat\n",
      "- Oreo\n",
      "- Sabun\n",
      "- Ultramilk\n",
      "- Ice Cream\n"
     ]
    }
   ],
   "source": [
    "def cetak_daftar_belanja(daftar_belanja, nim):\n",
    "    jumlah_cetak = (nim % 1000) % 7  # Mengambil 3 angka terakhir NIM lalu mod 7\n",
    "    \n",
    "    if jumlah_cetak == 0:\n",
    "        jumlah_cetak = 1  # Minimal cetak sekali jika hasil mod 7 adalah 0\n",
    "    \n",
    "    for i in range(jumlah_cetak):\n",
    "        print(f\"\\nCetakan ke-{i+1}:\")\n",
    "        for item in daftar_belanja:\n",
    "            print(f\"- {item}\")\n",
    "\n",
    "# Penggunaan dengan NIM H061241049\n",
    "nim = 49  # 3 angka terakhir dari NIM H061241049\n",
    "jumlah_cetak = nim % 7  # 49 % 7 = 0, minimal cetak 1 kali\n",
    "\n",
    "daftar_belanja = [\"Coklat\", \"Oreo\", \"Sabun\", \"Ultramilk\", \"Ice Cream\"]\n",
    "cetak_daftar_belanja(daftar_belanja, nim)"
   ]
  },
  {
   "cell_type": "markdown",
   "metadata": {},
   "source": [
    "**Soal 12**: Seorang guru ingin mencetak angka dari 1 sampai 50, tetapi hanya bilangan kelipatan (3 angka terakhir NIM Anda % 6). Buat program untuk mencetak bilangan tersebut."
   ]
  },
  {
   "cell_type": "code",
   "execution_count": 3,
   "metadata": {},
   "outputs": [
    {
     "name": "stdout",
     "output_type": "stream",
     "text": [
      "Bilangan kelipatan 1 dari 1 sampai 50:\n",
      "1 2 3 4 5 6 7 8 9 10 11 12 13 14 15 16 17 18 19 20 21 22 23 24 25 26 27 28 29 30 31 32 33 34 35 36 37 38 39 40 41 42 43 44 45 46 47 48 49 50 \n"
     ]
    }
   ],
   "source": [
    "def cetak_kelipatan(nim):\n",
    "    kelipatan = (nim % 1000) % 6  # Mengambil 3 angka terakhir NIM lalu mod 6\n",
    "    \n",
    "    if kelipatan == 0:\n",
    "        kelipatan = 1  # Minimal kelipatan adalah 1 jika hasil mod 6 adalah 0\n",
    "    \n",
    "    print(f\"Bilangan kelipatan {kelipatan} dari 1 sampai 50:\")\n",
    "    for i in range(1, 51):\n",
    "        if i % kelipatan == 0:\n",
    "            print(i, end=\" \")\n",
    "    print()\n",
    "\n",
    "# Penggunaan dengan NIM H061241049\n",
    "nim = 49  # 3 angka terakhir dari NIM H061241049\n",
    "cetak_kelipatan(nim)\n"
   ]
  },
  {
   "cell_type": "markdown",
   "metadata": {},
   "source": [
    "**Soal 13**: Seorang penjual ingin mencetak tabel perkalian (3 angka terakhir NIM Anda % 8). Buat program untuk mencetak tabel tersebut."
   ]
  },
  {
   "cell_type": "code",
   "execution_count": 4,
   "metadata": {},
   "outputs": [
    {
     "name": "stdout",
     "output_type": "stream",
     "text": [
      "Tabel perkalian 1:\n",
      "1 x 1 = 1\n",
      "1 x 2 = 2\n",
      "1 x 3 = 3\n",
      "1 x 4 = 4\n",
      "1 x 5 = 5\n",
      "1 x 6 = 6\n",
      "1 x 7 = 7\n",
      "1 x 8 = 8\n",
      "1 x 9 = 9\n",
      "1 x 10 = 10\n"
     ]
    }
   ],
   "source": [
    "def cetak_tabel_perkalian(nim):\n",
    "    angka = (nim % 1000) % 8  # Mengambil 3 angka terakhir NIM lalu mod 8\n",
    "    \n",
    "    if angka == 0:\n",
    "        angka = 1  # Minimal perkalian adalah 1 jika hasil mod 8 adalah 0\n",
    "    \n",
    "    print(f\"Tabel perkalian {angka}:\")\n",
    "    for i in range(1, 11):\n",
    "        print(f\"{angka} x {i} = {angka * i}\")\n",
    "\n",
    "# Penggunaan dengan NIM H061241049\n",
    "nim = 49  # 3 angka terakhir dari NIM H061241049\n",
    "cetak_tabel_perkalian(nim)"
   ]
  },
  {
   "cell_type": "markdown",
   "metadata": {},
   "source": [
    "**Soal 14**: Seorang pelukis ingin mencetak pola bintang persegi dengan sisi (3 angka terakhir NIM Anda % 5). Buat program untuk mencetak pola tersebut."
   ]
  },
  {
   "cell_type": "code",
   "execution_count": 5,
   "metadata": {},
   "outputs": [
    {
     "name": "stdout",
     "output_type": "stream",
     "text": [
      "Pola bintang persegi dengan sisi 4:\n",
      "* * * * \n",
      "* * * * \n",
      "* * * * \n",
      "* * * * \n"
     ]
    }
   ],
   "source": [
    "def cetak_pola_bintang(nim):\n",
    "    sisi = (nim % 1000) % 5  # Mengambil 3 angka terakhir NIM lalu mod 5\n",
    "    \n",
    "    if sisi == 0:\n",
    "        sisi = 1  # Minimal ukuran sisi adalah 1 jika hasil mod 5 adalah 0\n",
    "    \n",
    "    print(f\"Pola bintang persegi dengan sisi {sisi}:\")\n",
    "    for i in range(sisi):\n",
    "        print(\"* \" * sisi)\n",
    "\n",
    "# Penggunaan dengan NIM H061241049\n",
    "nim = 49  # 3 angka terakhir dari NIM H061241049\n",
    "cetak_pola_bintang(nim)\n"
   ]
  },
  {
   "cell_type": "markdown",
   "metadata": {},
   "source": [
    "**Soal 15**: Seorang peneliti ingin mencetak bilangan komposit dari 1 sampai (3 angka terakhir NIM Anda). Buat program untuk mencetak bilangan tersebut."
   ]
  },
  {
   "cell_type": "code",
   "execution_count": 6,
   "metadata": {},
   "outputs": [
    {
     "name": "stdout",
     "output_type": "stream",
     "text": [
      "Bilangan komposit dari 1 sampai 49:\n",
      "4 6 8 9 10 12 14 15 16 18 20 21 22 24 25 26 27 28 30 32 33 34 35 36 38 39 40 42 44 45 46 48 49 \n"
     ]
    }
   ],
   "source": [
    "def is_prime(n):\n",
    "    if n < 2:\n",
    "        return False\n",
    "    for i in range(2, int(n ** 0.5) + 1):\n",
    "        if n % i == 0:\n",
    "            return True\n",
    "    return False\n",
    "\n",
    "def cetak_bilangan_komposit(nim):\n",
    "    batas = nim % 1000  # Mengambil 3 angka terakhir NIM\n",
    "    \n",
    "    print(f\"Bilangan komposit dari 1 sampai {batas}:\")\n",
    "    for i in range(1, batas + 1):\n",
    "        if is_prime(i):\n",
    "            print(i, end=\" \")\n",
    "    print()\n",
    "\n",
    "# Penggunaan dengan NIM H061241049\n",
    "nim = 49  # 3 angka terakhir dari NIM H061241049\n",
    "cetak_bilangan_komposit(nim)"
   ]
  },
  {
   "cell_type": "markdown",
   "metadata": {},
   "source": [
    "**Soal 16**: Seorang programmer ingin mencetak deret kuadrat dari 1 sampai (3 angka terakhir NIM Anda % 10). Buat program untuk mencetak deret tersebut."
   ]
  },
  {
   "cell_type": "code",
   "execution_count": 7,
   "metadata": {},
   "outputs": [
    {
     "name": "stdout",
     "output_type": "stream",
     "text": [
      "Bilangan komposit dari 1 sampai 49:\n",
      "4 6 8 9 10 12 14 15 16 18 20 21 22 24 25 26 27 28 30 32 33 34 35 36 38 39 40 42 44 45 46 48 49 \n"
     ]
    }
   ],
   "source": [
    "def is_prime(n):\n",
    "    if n < 2:\n",
    "        return False\n",
    "    for i in range(2, int(n ** 0.5) + 1):\n",
    "        if n % i == 0:\n",
    "            return True\n",
    "    return False\n",
    "\n",
    "def cetak_bilangan_komposit(nim):\n",
    "    batas = nim % 1000  # Mengambil 3 angka terakhir NIM\n",
    "    \n",
    "    print(f\"Bilangan komposit dari 1 sampai {batas}:\")\n",
    "    for i in range(1, batas + 1):\n",
    "        if is_prime(i):\n",
    "            print(i, end=\" \")\n",
    "    print()\n",
    "\n",
    "# Penggunaan dengan NIM H061241049\n",
    "nim = 49  # 3 angka terakhir dari NIM H061241049\n",
    "cetak_bilangan_komposit(nim)\n"
   ]
  },
  {
   "cell_type": "markdown",
   "metadata": {},
   "source": [
    "**Soal 17**: Seorang petani ingin mencetak bilangan kelipatan (3 angka terakhir NIM Anda % 7) dari 1 sampai 100. Buat program untuk mencetak bilangan tersebut."
   ]
  },
  {
   "cell_type": "code",
   "execution_count": 8,
   "metadata": {},
   "outputs": [
    {
     "name": "stdout",
     "output_type": "stream",
     "text": [
      "Bilangan kelipatan 1 dari 1 sampai 100:\n",
      "1 2 3 4 5 6 7 8 9 10 11 12 13 14 15 16 17 18 19 20 21 22 23 24 25 26 27 28 29 30 31 32 33 34 35 36 37 38 39 40 41 42 43 44 45 46 47 48 49 50 51 52 53 54 55 56 57 58 59 60 61 62 63 64 65 66 67 68 69 70 71 72 73 74 75 76 77 78 79 80 81 82 83 84 85 86 87 88 89 90 91 92 93 94 95 96 97 98 99 100 \n"
     ]
    }
   ],
   "source": [
    "def cetak_kelipatan(nim):\n",
    "    kelipatan = (nim % 1000) % 7  # Mengambil 3 angka terakhir NIM lalu mod 7\n",
    "    \n",
    "    if kelipatan == 0:\n",
    "        kelipatan = 1  # Minimal kelipatan adalah 1 jika hasil mod 7 adalah 0\n",
    "    \n",
    "    print(f\"Bilangan kelipatan {kelipatan} dari 1 sampai 100:\")\n",
    "    for i in range(1, 101):\n",
    "        if i % kelipatan == 0:\n",
    "            print(i, end=\" \")\n",
    "    print()\n",
    "\n",
    "# Penggunaan dengan NIM H061241049\n",
    "nim = 49  # 3 angka terakhir dari NIM H061241049\n",
    "cetak_kelipatan(nim)\n"
   ]
  },
  {
   "cell_type": "markdown",
   "metadata": {},
   "source": [
    "**Soal 18**: Seorang siswa ingin mencetak bilangan genap dari 2 sampai (3 angka terakhir NIM Anda). Buat program untuk mencetak bilangan tersebut."
   ]
  },
  {
   "cell_type": "code",
   "execution_count": 9,
   "metadata": {},
   "outputs": [
    {
     "name": "stdout",
     "output_type": "stream",
     "text": [
      "Bilangan genap dari 2 sampai 49:\n",
      "2 4 6 8 10 12 14 16 18 20 22 24 26 28 30 32 34 36 38 40 42 44 46 48 \n"
     ]
    }
   ],
   "source": [
    "def cetak_bilangan_genap(nim):\n",
    "    batas = nim % 1000  # Mengambil 3 angka terakhir NIM\n",
    "    \n",
    "    print(f\"Bilangan genap dari 2 sampai {batas}:\")\n",
    "    for i in range(2, batas + 1, 2):\n",
    "        print(i, end=\" \")\n",
    "    print()\n",
    "\n",
    "# Penggunaan dengan NIM H061241049\n",
    "nim = 49  # 3 angka terakhir dari NIM H061241049\n",
    "cetak_bilangan_genap(nim)\n"
   ]
  },
  {
   "cell_type": "markdown",
   "metadata": {},
   "source": [
    "**Soal 19**: Seorang penjual ingin mencetak faktorial dari (3 angka terakhir NIM Anda % 6). Buat program untuk mencetak faktorial tersebut."
   ]
  },
  {
   "cell_type": "code",
   "execution_count": 10,
   "metadata": {},
   "outputs": [
    {
     "name": "stdout",
     "output_type": "stream",
     "text": [
      "Faktorial dari 1 adalah 1\n"
     ]
    }
   ],
   "source": [
    "import math\n",
    "\n",
    "def cetak_faktorial(nim):\n",
    "    angka = (nim % 1000) % 6  # Mengambil 3 angka terakhir NIM lalu mod 6\n",
    "    \n",
    "    if angka == 0:\n",
    "        angka = 1  # Minimal faktorial dihitung dari 1\n",
    "    \n",
    "    print(f\"Faktorial dari {angka} adalah {math.factorial(angka)}\")\n",
    "\n",
    "# Penggunaan dengan NIM H061241049\n",
    "nim = 49  # 3 angka terakhir dari NIM H061241049\n",
    "cetak_faktorial(nim)"
   ]
  },
  {
   "cell_type": "markdown",
   "metadata": {},
   "source": [
    "**Soal 20**: Seorang pelanggan ingin mencetak \"Selamat Datang\" sebanyak (3 angka terakhir NIM Anda % 4) kali. Buat program untuk mencetak pesan tersebut."
   ]
  },
  {
   "cell_type": "code",
   "execution_count": 11,
   "metadata": {},
   "outputs": [
    {
     "name": "stdout",
     "output_type": "stream",
     "text": [
      "Selamat Datang\n"
     ]
    }
   ],
   "source": [
    "def cetak_selamat_datang(nim):\n",
    "    jumlah_cetak = (nim % 1000) % 4  # Mengambil 3 angka terakhir NIM lalu mod 4\n",
    "    \n",
    "    if jumlah_cetak == 0:\n",
    "        jumlah_cetak = 1  # Minimal cetak sekali jika hasil mod 4 adalah 0\n",
    "    \n",
    "    for i in range(jumlah_cetak):\n",
    "        print(\"Selamat Datang\")\n",
    "\n",
    "# Penggunaan dengan NIM H061241049\n",
    "nim = 49  # 3 angka terakhir dari NIM H061241049\n",
    "cetak_selamat_datang(nim)\n"
   ]
  }
 ],
 "metadata": {
  "kernelspec": {
   "display_name": "pengprog",
   "language": "python",
   "name": "python3"
  },
  "language_info": {
   "codemirror_mode": {
    "name": "ipython",
    "version": 3
   },
   "file_extension": ".py",
   "mimetype": "text/x-python",
   "name": "python",
   "nbconvert_exporter": "python",
   "pygments_lexer": "ipython3",
   "version": "3.13.2"
  }
 },
 "nbformat": 4,
 "nbformat_minor": 2
}
